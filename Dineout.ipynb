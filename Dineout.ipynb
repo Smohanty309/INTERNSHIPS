{
 "cells": [
  {
   "cell_type": "markdown",
   "id": "1e6d75fc",
   "metadata": {},
   "source": [
    "Question no 7"
   ]
  },
  {
   "cell_type": "code",
   "execution_count": 1,
   "id": "8d870e17",
   "metadata": {},
   "outputs": [],
   "source": [
    "import requests\n",
    "from bs4 import BeautifulSoup\n",
    "import pandas as pd"
   ]
  },
  {
   "cell_type": "code",
   "execution_count": 4,
   "id": "d9ca3fe0",
   "metadata": {},
   "outputs": [],
   "source": [
    "#Sending request to the webpage to get page content.\n",
    "page = 'https://www.dineout.co.in/delhi-restaurants/buffet-special'\n",
    "page = requests.get(page)"
   ]
  },
  {
   "cell_type": "code",
   "execution_count": 5,
   "id": "4ba71850",
   "metadata": {},
   "outputs": [],
   "source": [
    "#Creating soup \n",
    "soup = BeautifulSoup(page.content,'html.parser')"
   ]
  },
  {
   "cell_type": "code",
   "execution_count": 6,
   "id": "255727ef",
   "metadata": {},
   "outputs": [],
   "source": [
    "#Srcaping resturent name\n",
    "r_name = []\n",
    "resturent = soup.find_all('a', class_ = 'restnt-name ellipsis')\n",
    "\n",
    "for r in resturent:\n",
    "    r_name.append(r.text)"
   ]
  },
  {
   "cell_type": "code",
   "execution_count": 7,
   "id": "8517e371",
   "metadata": {},
   "outputs": [],
   "source": [
    "#Scraping cuisine\n",
    "cuisine = []\n",
    "cui = soup.find_all('span', class_ = 'double-line-ellipsis')\n",
    "\n",
    "for c in cui:\n",
    "    cuisine.append(c.text.split('|')[1])\n",
    "    "
   ]
  },
  {
   "cell_type": "code",
   "execution_count": 8,
   "id": "e958e250",
   "metadata": {},
   "outputs": [],
   "source": [
    "#Scraping locations\n",
    "location = []\n",
    "\n",
    "for l in soup.findAll('div', class_ = 'restnt-loc ellipsis'):\n",
    "    location.append(l.text)\n",
    "    "
   ]
  },
  {
   "cell_type": "code",
   "execution_count": 9,
   "id": "afc0ec6c",
   "metadata": {},
   "outputs": [],
   "source": [
    "#Parse the ratings\n",
    "r_ratings = []\n",
    "for r in soup.findAll('div', class_ = 'restnt-rating rating-4'):\n",
    "    r_ratings.append(r.text)"
   ]
  },
  {
   "cell_type": "code",
   "execution_count": 10,
   "id": "d4b95361",
   "metadata": {},
   "outputs": [],
   "source": [
    "#Scraping URLs\n",
    "URL = []\n",
    "for bu in soup.findAll('img', class_ = 'no-img'):\n",
    "    URL.append(bu['data-src'])\n",
    "    "
   ]
  },
  {
   "cell_type": "code",
   "execution_count": 17,
   "id": "7a9873fa",
   "metadata": {},
   "outputs": [
    {
     "name": "stdout",
     "output_type": "stream",
     "text": [
      "9 9 9 9 9\n"
     ]
    }
   ],
   "source": [
    "#Pinting the lenght\n",
    "print(len(r_name),len(cuisine),len(location),len(r_ratings),len(URL))\n"
   ]
  },
  {
   "cell_type": "code",
   "execution_count": 18,
   "id": "5b04fefa",
   "metadata": {},
   "outputs": [
    {
     "data": {
      "text/html": [
       "<style type=\"text/css\">\n",
       "</style>\n",
       "<table id=\"T_fddac\">\n",
       "  <thead>\n",
       "    <tr>\n",
       "      <th id=\"T_fddac_level0_col0\" class=\"col_heading level0 col0\" >Resturent Name</th>\n",
       "      <th id=\"T_fddac_level0_col1\" class=\"col_heading level0 col1\" >Cuisine</th>\n",
       "      <th id=\"T_fddac_level0_col2\" class=\"col_heading level0 col2\" >Location</th>\n",
       "      <th id=\"T_fddac_level0_col3\" class=\"col_heading level0 col3\" >Rating</th>\n",
       "      <th id=\"T_fddac_level0_col4\" class=\"col_heading level0 col4\" >URL</th>\n",
       "    </tr>\n",
       "  </thead>\n",
       "  <tbody>\n",
       "    <tr>\n",
       "      <td id=\"T_fddac_row0_col0\" class=\"data row0 col0\" >Castle Barbeque</td>\n",
       "      <td id=\"T_fddac_row0_col1\" class=\"data row0 col1\" > Chinese, North Indian</td>\n",
       "      <td id=\"T_fddac_row0_col2\" class=\"data row0 col2\" >Connaught Place, Central Delhi</td>\n",
       "      <td id=\"T_fddac_row0_col3\" class=\"data row0 col3\" >4</td>\n",
       "      <td id=\"T_fddac_row0_col4\" class=\"data row0 col4\" >https://im1.dineout.co.in/images/uploads/restaurant/sharpen/8/k/b/p86792-16062953735fbe1f4d3fb7e.jpg?tr=tr:n-medium</td>\n",
       "    </tr>\n",
       "    <tr>\n",
       "      <td id=\"T_fddac_row1_col0\" class=\"data row1 col0\" >Jungle Jamboree</td>\n",
       "      <td id=\"T_fddac_row1_col1\" class=\"data row1 col1\" > North Indian, Asian, Italian</td>\n",
       "      <td id=\"T_fddac_row1_col2\" class=\"data row1 col2\" >3CS Mall,Lajpat Nagar - 3, South Delhi</td>\n",
       "      <td id=\"T_fddac_row1_col3\" class=\"data row1 col3\" >3.9</td>\n",
       "      <td id=\"T_fddac_row1_col4\" class=\"data row1 col4\" >https://im1.dineout.co.in/images/uploads/restaurant/sharpen/5/p/m/p59633-166088382462ff137009010.jpg?tr=tr:n-medium</td>\n",
       "    </tr>\n",
       "    <tr>\n",
       "      <td id=\"T_fddac_row2_col0\" class=\"data row2 col0\" >Cafe Knosh</td>\n",
       "      <td id=\"T_fddac_row2_col1\" class=\"data row2 col1\" > Italian, Continental</td>\n",
       "      <td id=\"T_fddac_row2_col2\" class=\"data row2 col2\" >The Leela Ambience Convention Hotel,Shahdara, East Delhi</td>\n",
       "      <td id=\"T_fddac_row2_col3\" class=\"data row2 col3\" >4.3</td>\n",
       "      <td id=\"T_fddac_row2_col4\" class=\"data row2 col4\" >https://im1.dineout.co.in/images/uploads/restaurant/sharpen/4/p/m/p406-15438184745c04ccea491bc.jpg?tr=tr:n-medium</td>\n",
       "    </tr>\n",
       "    <tr>\n",
       "      <td id=\"T_fddac_row3_col0\" class=\"data row3 col0\" >Castle's Barbeque</td>\n",
       "      <td id=\"T_fddac_row3_col1\" class=\"data row3 col1\" > Chinese, North Indian</td>\n",
       "      <td id=\"T_fddac_row3_col2\" class=\"data row3 col2\" >Pacific Mall,Tagore Garden, West Delhi</td>\n",
       "      <td id=\"T_fddac_row3_col3\" class=\"data row3 col3\" >3.9</td>\n",
       "      <td id=\"T_fddac_row3_col4\" class=\"data row3 col4\" >https://im1.dineout.co.in/images/uploads/restaurant/sharpen/3/j/o/p38113-15959192065f1fcb666130c.jpg?tr=tr:n-medium</td>\n",
       "    </tr>\n",
       "    <tr>\n",
       "      <td id=\"T_fddac_row4_col0\" class=\"data row4 col0\" >The Barbeque Company</td>\n",
       "      <td id=\"T_fddac_row4_col1\" class=\"data row4 col1\" > North Indian, Chinese</td>\n",
       "      <td id=\"T_fddac_row4_col2\" class=\"data row4 col2\" >Gardens Galleria,Sector 38A, Noida</td>\n",
       "      <td id=\"T_fddac_row4_col3\" class=\"data row4 col3\" >3.9</td>\n",
       "      <td id=\"T_fddac_row4_col4\" class=\"data row4 col4\" >https://im1.dineout.co.in/images/uploads/restaurant/sharpen/7/p/k/p79307-16051787755fad1597f2bf9.jpg?tr=tr:n-medium</td>\n",
       "    </tr>\n",
       "    <tr>\n",
       "      <td id=\"T_fddac_row5_col0\" class=\"data row5 col0\" >India Grill</td>\n",
       "      <td id=\"T_fddac_row5_col1\" class=\"data row5 col1\" > North Indian, Italian</td>\n",
       "      <td id=\"T_fddac_row5_col2\" class=\"data row5 col2\" >Hilton Garden Inn,Saket, South Delhi</td>\n",
       "      <td id=\"T_fddac_row5_col3\" class=\"data row5 col3\" >3.9</td>\n",
       "      <td id=\"T_fddac_row5_col4\" class=\"data row5 col4\" >https://im1.dineout.co.in/images/uploads/restaurant/sharpen/2/v/t/p2687-1482477169585cce712b90f.jpg?tr=tr:n-medium</td>\n",
       "    </tr>\n",
       "    <tr>\n",
       "      <td id=\"T_fddac_row6_col0\" class=\"data row6 col0\" >Delhi Barbeque</td>\n",
       "      <td id=\"T_fddac_row6_col1\" class=\"data row6 col1\" > North Indian</td>\n",
       "      <td id=\"T_fddac_row6_col2\" class=\"data row6 col2\" >Taurus Sarovar Portico,Mahipalpur, South Delhi</td>\n",
       "      <td id=\"T_fddac_row6_col3\" class=\"data row6 col3\" >3.7</td>\n",
       "      <td id=\"T_fddac_row6_col4\" class=\"data row6 col4\" >https://im1.dineout.co.in/images/uploads/restaurant/sharpen/5/d/i/p52501-1661855212630de5eceb6d2.jpg?tr=tr:n-medium</td>\n",
       "    </tr>\n",
       "    <tr>\n",
       "      <td id=\"T_fddac_row7_col0\" class=\"data row7 col0\" >The Monarch - Bar Be Que Village</td>\n",
       "      <td id=\"T_fddac_row7_col1\" class=\"data row7 col1\" > North Indian</td>\n",
       "      <td id=\"T_fddac_row7_col2\" class=\"data row7 col2\" >Indirapuram Habitat Centre,Indirapuram, Ghaziabad</td>\n",
       "      <td id=\"T_fddac_row7_col3\" class=\"data row7 col3\" >3.8</td>\n",
       "      <td id=\"T_fddac_row7_col4\" class=\"data row7 col4\" >https://im1.dineout.co.in/images/uploads/restaurant/sharpen/3/n/o/p34822-15599107305cfa594a13c24.jpg?tr=tr:n-medium</td>\n",
       "    </tr>\n",
       "    <tr>\n",
       "      <td id=\"T_fddac_row8_col0\" class=\"data row8 col0\" >Indian Grill Room</td>\n",
       "      <td id=\"T_fddac_row8_col1\" class=\"data row8 col1\" > North Indian, Mughlai</td>\n",
       "      <td id=\"T_fddac_row8_col2\" class=\"data row8 col2\" >Suncity Business Tower,Golf Course Road, Gurgaon</td>\n",
       "      <td id=\"T_fddac_row8_col3\" class=\"data row8 col3\" >4.3</td>\n",
       "      <td id=\"T_fddac_row8_col4\" class=\"data row8 col4\" >https://im1.dineout.co.in/images/uploads/restaurant/sharpen/5/y/f/p549-165000147262590640c0afc.jpg?tr=tr:n-medium</td>\n",
       "    </tr>\n",
       "  </tbody>\n",
       "</table>\n"
      ],
      "text/plain": [
       "<pandas.io.formats.style.Styler at 0x2a22733c100>"
      ]
     },
     "execution_count": 18,
     "metadata": {},
     "output_type": "execute_result"
    }
   ],
   "source": [
    "#Creating dataframe.\n",
    "dine = pd.DataFrame({'Resturent Name':r_name,'Cuisine':cuisine,'Location':location,'Rating':r_ratings,'URL':URL})\n",
    "Dine "
   ]
  },
  {
   "cell_type": "code",
   "execution_count": null,
   "id": "c5b57fa1",
   "metadata": {},
   "outputs": [],
   "source": []
  }
 ],
 "metadata": {
  "kernelspec": {
   "display_name": "Python 3 (ipykernel)",
   "language": "python",
   "name": "python3"
  },
  "language_info": {
   "codemirror_mode": {
    "name": "ipython",
    "version": 3
   },
   "file_extension": ".py",
   "mimetype": "text/x-python",
   "name": "python",
   "nbconvert_exporter": "python",
   "pygments_lexer": "ipython3",
   "version": "3.9.13"
  }
 },
 "nbformat": 4,
 "nbformat_minor": 5
}
