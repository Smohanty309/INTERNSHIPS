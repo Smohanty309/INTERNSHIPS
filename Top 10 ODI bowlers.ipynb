{
 "cells": [
  {
   "cell_type": "markdown",
   "id": "050544ce",
   "metadata": {},
   "source": [
    "Question no 3 (C)"
   ]
  },
  {
   "cell_type": "code",
   "execution_count": 1,
   "id": "8e281b93",
   "metadata": {},
   "outputs": [],
   "source": [
    "from bs4 import BeautifulSoup\n",
    "import requests\n",
    "import pandas as pd"
   ]
  },
  {
   "cell_type": "code",
   "execution_count": 2,
   "id": "8987a539",
   "metadata": {},
   "outputs": [],
   "source": [
    "#Sending request to the web\n",
    "page = requests.get('https://www.icc-cricket.com/rankings/mens/player-rankings/odi/bowling')"
   ]
  },
  {
   "cell_type": "code",
   "execution_count": 3,
   "id": "3e0b6b31",
   "metadata": {},
   "outputs": [],
   "source": [
    "#Creating Soup\n",
    "soup = BeautifulSoup(page.content,'html.parser')"
   ]
  },
  {
   "cell_type": "code",
   "execution_count": 4,
   "id": "cb6412e7",
   "metadata": {},
   "outputs": [],
   "source": [
    "#Scraping bowlers from the web\n",
    "b_bow = soup.find('div', class_ = 'rankings-block__banner--name-large').text\n",
    "r_bow = soup.findAll('td', class_ = 'table-body__cell rankings-table__name name')\n",
    "bowler = []\n",
    "\n",
    "for b in r_bow:\n",
    "    bowler.append(b.text.replace('\\n',''))"
   ]
  },
  {
   "cell_type": "code",
   "execution_count": 5,
   "id": "47c50046",
   "metadata": {},
   "outputs": [],
   "source": [
    "#Inserting bowler to the list\n",
    "bowler.insert(0,b_bow)\n",
    "bowlers = bowler[0:10]"
   ]
  },
  {
   "cell_type": "code",
   "execution_count": 6,
   "id": "f1888e3c",
   "metadata": {},
   "outputs": [],
   "source": [
    "#Scraping team from the web.\n",
    "b_t = soup.find('div', class_ = 'rankings-block__banner--nationality').text.replace('\\n','')\n",
    "r_t = soup.find_all('td', class_ = 'table-body__cell nationality-logo rankings-table__team')\n",
    "tea = []\n",
    "for r in r_t:\n",
    "    tea.append(r.text.replace('\\n',''))"
   ]
  },
  {
   "cell_type": "code",
   "execution_count": 7,
   "id": "b006a6d0",
   "metadata": {},
   "outputs": [],
   "source": [
    "#Inserting team to the list\n",
    "tea.insert(0,b_t)\n",
    "team = tea[0:10]"
   ]
  },
  {
   "cell_type": "code",
   "execution_count": 8,
   "id": "bd2d4a40",
   "metadata": {},
   "outputs": [],
   "source": [
    "#Scraping rating from  web\n",
    "b_r = soup.find('div', class_ = 'rankings-block__banner--rating').text\n",
    "r_r = soup.find_all('td', class_ = 'table-body__cell rating')\n",
    "rat = []\n",
    "\n",
    "for i in r_r:\n",
    "    rat.append(i.text)"
   ]
  },
  {
   "cell_type": "code",
   "execution_count": 9,
   "id": "f18edb96",
   "metadata": {},
   "outputs": [],
   "source": [
    "#Inserting rating to the list\n",
    "rat.insert(0,b_r)\n",
    "rating = rat[0:10]\n"
   ]
  },
  {
   "cell_type": "code",
   "execution_count": 11,
   "id": "fd79d117",
   "metadata": {},
   "outputs": [],
   "source": [
    "#Create index value.\n",
    "index3 = {1,2,3,4,5,6,7,8,9,10}"
   ]
  },
  {
   "cell_type": "code",
   "execution_count": 23,
   "id": "a8c17cad",
   "metadata": {},
   "outputs": [
    {
     "data": {
      "text/html": [
       "<div>\n",
       "<style scoped>\n",
       "    .dataframe tbody tr th:only-of-type {\n",
       "        vertical-align: middle;\n",
       "    }\n",
       "\n",
       "    .dataframe tbody tr th {\n",
       "        vertical-align: top;\n",
       "    }\n",
       "\n",
       "    .dataframe thead th {\n",
       "        text-align: right;\n",
       "    }\n",
       "</style>\n",
       "<table border=\"1\" class=\"dataframe\">\n",
       "  <thead>\n",
       "    <tr style=\"text-align: right;\">\n",
       "      <th></th>\n",
       "      <th>Bowlers</th>\n",
       "      <th>Team</th>\n",
       "      <th>Rating</th>\n",
       "    </tr>\n",
       "  </thead>\n",
       "  <tbody>\n",
       "    <tr>\n",
       "      <th>1</th>\n",
       "      <td>Josh Hazlewood</td>\n",
       "      <td>AUS</td>\n",
       "      <td>705</td>\n",
       "    </tr>\n",
       "    <tr>\n",
       "      <th>2</th>\n",
       "      <td>Mohammed Siraj</td>\n",
       "      <td>IND</td>\n",
       "      <td>691</td>\n",
       "    </tr>\n",
       "    <tr>\n",
       "      <th>3</th>\n",
       "      <td>Mitchell Starc</td>\n",
       "      <td>AUS</td>\n",
       "      <td>686</td>\n",
       "    </tr>\n",
       "    <tr>\n",
       "      <th>4</th>\n",
       "      <td>Matt Henry</td>\n",
       "      <td>NZ</td>\n",
       "      <td>667</td>\n",
       "    </tr>\n",
       "    <tr>\n",
       "      <th>5</th>\n",
       "      <td>Trent Boult</td>\n",
       "      <td>NZ</td>\n",
       "      <td>660</td>\n",
       "    </tr>\n",
       "    <tr>\n",
       "      <th>6</th>\n",
       "      <td>Adam Zampa</td>\n",
       "      <td>AUS</td>\n",
       "      <td>652</td>\n",
       "    </tr>\n",
       "    <tr>\n",
       "      <th>7</th>\n",
       "      <td>Rashid Khan</td>\n",
       "      <td>AFG</td>\n",
       "      <td>640</td>\n",
       "    </tr>\n",
       "    <tr>\n",
       "      <th>8</th>\n",
       "      <td>Shaheen Afridi</td>\n",
       "      <td>PAK</td>\n",
       "      <td>630</td>\n",
       "    </tr>\n",
       "    <tr>\n",
       "      <th>9</th>\n",
       "      <td>Mujeeb Ur Rahman</td>\n",
       "      <td>AFG</td>\n",
       "      <td>630</td>\n",
       "    </tr>\n",
       "    <tr>\n",
       "      <th>10</th>\n",
       "      <td>Mohammad Nabi</td>\n",
       "      <td>AFG</td>\n",
       "      <td>626</td>\n",
       "    </tr>\n",
       "  </tbody>\n",
       "</table>\n",
       "</div>"
      ],
      "text/plain": [
       "             Bowlers Team Rating\n",
       "1     Josh Hazlewood  AUS    705\n",
       "2     Mohammed Siraj  IND    691\n",
       "3     Mitchell Starc  AUS    686\n",
       "4         Matt Henry   NZ    667\n",
       "5        Trent Boult   NZ    660\n",
       "6         Adam Zampa  AUS    652\n",
       "7        Rashid Khan  AFG    640\n",
       "8     Shaheen Afridi  PAK    630\n",
       "9   Mujeeb Ur Rahman  AFG    630\n",
       "10     Mohammad Nabi  AFG    626"
      ]
     },
     "execution_count": 23,
     "metadata": {},
     "output_type": "execute_result"
    }
   ],
   "source": [
    "#Creating DataFrame to show Top 10 ODI bowlers TEAM & RATING\n",
    "ODI_Bowlers = pd.DataFrame({'Bowlers':bowlers,'Team':team,'Rating':rating},index3)\n",
    "ODI_Bowlers"
   ]
  },
  {
   "cell_type": "code",
   "execution_count": null,
   "id": "0eb673b7",
   "metadata": {},
   "outputs": [],
   "source": []
  }
 ],
 "metadata": {
  "kernelspec": {
   "display_name": "Python 3 (ipykernel)",
   "language": "python",
   "name": "python3"
  },
  "language_info": {
   "codemirror_mode": {
    "name": "ipython",
    "version": 3
   },
   "file_extension": ".py",
   "mimetype": "text/x-python",
   "name": "python",
   "nbconvert_exporter": "python",
   "pygments_lexer": "ipython3",
   "version": "3.9.13"
  }
 },
 "nbformat": 4,
 "nbformat_minor": 5
}
