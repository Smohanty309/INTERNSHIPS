{
 "cells": [
  {
   "cell_type": "markdown",
   "id": "beda679f",
   "metadata": {},
   "source": [
    "Question no 5 "
   ]
  },
  {
   "cell_type": "code",
   "execution_count": 2,
   "id": "ac1ac561",
   "metadata": {},
   "outputs": [],
   "source": [
    "import requests\n",
    "from bs4 import BeautifulSoup\n",
    "import pandas as pd\n",
    "from datetime import date\n"
   ]
  },
  {
   "cell_type": "code",
   "execution_count": 3,
   "id": "85981cd8",
   "metadata": {},
   "outputs": [],
   "source": [
    "today = date.today()\n",
    "d = today.strftime('%d-%m-%y')"
   ]
  },
  {
   "cell_type": "code",
   "execution_count": 7,
   "id": "20222223",
   "metadata": {},
   "outputs": [],
   "source": [
    "#Sending request to the cnbc news webpage .\n",
    "url = 'https://www.cnbc.com/world/'.format(d)\n",
    "page  = requests.get(url)"
   ]
  },
  {
   "cell_type": "code",
   "execution_count": 9,
   "id": "656d6288",
   "metadata": {},
   "outputs": [],
   "source": [
    "#Create Soup\n",
    "soup = BeautifulSoup(page.content,'html.parser')"
   ]
  },
  {
   "cell_type": "code",
   "execution_count": 10,
   "id": "d3945d05",
   "metadata": {},
   "outputs": [],
   "source": [
    "#Scrape the headline\n",
    "headline = []\n",
    "news = soup.find_all('a', class_ = 'LatestNews-headline')\n",
    "for i in news:\n",
    "    headline.append(i.text)"
   ]
  },
  {
   "cell_type": "code",
   "execution_count": 12,
   "id": "1faffc37",
   "metadata": {},
   "outputs": [],
   "source": [
    "#scraping the time\n",
    "time = []\n",
    "\n",
    "for i in soup.find_all('time', class_ = 'LatestNews-timestamp'):\n",
    "    time.append(i.text)"
   ]
  },
  {
   "cell_type": "code",
   "execution_count": 14,
   "id": "b79fae57",
   "metadata": {},
   "outputs": [],
   "source": [
    "links = []\n",
    "\n",
    "for n in soup.find_all('div', class_ = 'LatestNews-headlineWrapper'):\n",
    "    links.append(n.a['href'].strip(\"'/pro/'\"))\n"
   ]
  },
  {
   "cell_type": "code",
   "execution_count": 16,
   "id": "d59d4e25",
   "metadata": {},
   "outputs": [
    {
     "data": {
      "text/html": [
       "<div>\n",
       "<style scoped>\n",
       "    .dataframe tbody tr th:only-of-type {\n",
       "        vertical-align: middle;\n",
       "    }\n",
       "\n",
       "    .dataframe tbody tr th {\n",
       "        vertical-align: top;\n",
       "    }\n",
       "\n",
       "    .dataframe thead th {\n",
       "        text-align: right;\n",
       "    }\n",
       "</style>\n",
       "<table border=\"1\" class=\"dataframe\">\n",
       "  <thead>\n",
       "    <tr style=\"text-align: right;\">\n",
       "      <th></th>\n",
       "      <th>Headline</th>\n",
       "      <th>Time</th>\n",
       "      <th>News Link</th>\n",
       "    </tr>\n",
       "  </thead>\n",
       "  <tbody>\n",
       "    <tr>\n",
       "      <th>0</th>\n",
       "      <td>This green hydrogen stock can rally more than ...</td>\n",
       "      <td>7 Min Ago</td>\n",
       "      <td></td>\n",
       "    </tr>\n",
       "    <tr>\n",
       "      <th>1</th>\n",
       "      <td>Janet Yellen arrives in Beijing on mission to ...</td>\n",
       "      <td>25 Min Ago</td>\n",
       "      <td>https://www.cnbc.com/2023/07/06/janet-yellen-a...</td>\n",
       "    </tr>\n",
       "    <tr>\n",
       "      <th>2</th>\n",
       "      <td>China says it told the U.S. and Europe about t...</td>\n",
       "      <td>1 Hour Ago</td>\n",
       "      <td>https://www.cnbc.com/2023/07/06/china-says-it-...</td>\n",
       "    </tr>\n",
       "    <tr>\n",
       "      <th>3</th>\n",
       "      <td>Treasury yields rise as investors look ahead t...</td>\n",
       "      <td>2 Hours Ago</td>\n",
       "      <td>https://www.cnbc.com/2023/07/06/us-treasurys-i...</td>\n",
       "    </tr>\n",
       "    <tr>\n",
       "      <th>4</th>\n",
       "      <td>OPEC chief says the search is on for new membe...</td>\n",
       "      <td>3 Hours Ago</td>\n",
       "      <td>https://www.cnbc.com/2023/07/06/opec-chief-say...</td>\n",
       "    </tr>\n",
       "  </tbody>\n",
       "</table>\n",
       "</div>"
      ],
      "text/plain": [
       "                                            Headline         Time  \\\n",
       "0  This green hydrogen stock can rally more than ...    7 Min Ago   \n",
       "1  Janet Yellen arrives in Beijing on mission to ...   25 Min Ago   \n",
       "2  China says it told the U.S. and Europe about t...   1 Hour Ago   \n",
       "3  Treasury yields rise as investors look ahead t...  2 Hours Ago   \n",
       "4  OPEC chief says the search is on for new membe...  3 Hours Ago   \n",
       "\n",
       "                                           News Link  \n",
       "0                                                     \n",
       "1  https://www.cnbc.com/2023/07/06/janet-yellen-a...  \n",
       "2  https://www.cnbc.com/2023/07/06/china-says-it-...  \n",
       "3  https://www.cnbc.com/2023/07/06/us-treasurys-i...  \n",
       "4  https://www.cnbc.com/2023/07/06/opec-chief-say...  "
      ]
     },
     "execution_count": 16,
     "metadata": {},
     "output_type": "execute_result"
    }
   ],
   "source": [
    "#making a Dataframe of cnbc headline time news link\n",
    "news = pd.DataFrame({'Headline':headline,'Time':time,'News Link':links})\n",
    "news.head()\n",
    "     "
   ]
  },
  {
   "cell_type": "code",
   "execution_count": null,
   "id": "37c498f0",
   "metadata": {},
   "outputs": [],
   "source": []
  }
 ],
 "metadata": {
  "kernelspec": {
   "display_name": "Python 3 (ipykernel)",
   "language": "python",
   "name": "python3"
  },
  "language_info": {
   "codemirror_mode": {
    "name": "ipython",
    "version": 3
   },
   "file_extension": ".py",
   "mimetype": "text/x-python",
   "name": "python",
   "nbconvert_exporter": "python",
   "pygments_lexer": "ipython3",
   "version": "3.9.13"
  }
 },
 "nbformat": 4,
 "nbformat_minor": 5
}
