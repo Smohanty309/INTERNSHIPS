{
 "cells": [
  {
   "cell_type": "markdown",
   "id": "c399b067",
   "metadata": {},
   "source": [
    "Question no 03 (A)\n"
   ]
  },
  {
   "cell_type": "code",
   "execution_count": 17,
   "id": "f51c1dfe",
   "metadata": {},
   "outputs": [],
   "source": [
    "from bs4 import BeautifulSoup\n",
    "import requests\n",
    "import pandas as pd\n"
   ]
  },
  {
   "cell_type": "code",
   "execution_count": 18,
   "id": "f8a7b032",
   "metadata": {},
   "outputs": [],
   "source": [
    "#Sending requesting to the cricket webpage server to get the content.\n",
    "url1 = \"https://www.icc-cricket.com/rankings/mens/team-rankings/odi\""
   ]
  },
  {
   "cell_type": "code",
   "execution_count": 19,
   "id": "f33074f1",
   "metadata": {},
   "outputs": [],
   "source": [
    "#Requesting url\n",
    "requests = requests.get(url1)"
   ]
  },
  {
   "cell_type": "code",
   "execution_count": 20,
   "id": "0646530e",
   "metadata": {},
   "outputs": [],
   "source": [
    "#Create Soup\n",
    "soup1 = BeautifulSoup(requests.content)"
   ]
  },
  {
   "cell_type": "code",
   "execution_count": 21,
   "id": "69f33ad4",
   "metadata": {},
   "outputs": [],
   "source": [
    "#Scraping the team data\n",
    "team = soup1.find('td', class_ = 'rankings-block__banner--team-name').text.split('\\n')[2]\n",
    "team_n = soup1.find_all('td', class_ = 'table-body__cell rankings-table__team')\n",
    "nam = []\n",
    "for i in team_n:\n",
    "    nam.append(i.text.split('\\n')[2])"
   ]
  },
  {
   "cell_type": "code",
   "execution_count": 22,
   "id": "d8ff6abd",
   "metadata": {},
   "outputs": [],
   "source": [
    "#Inserting data to the list\n",
    "nam.insert(0,team)\n",
    "team_name = nam[0:10]"
   ]
  },
  {
   "cell_type": "code",
   "execution_count": 23,
   "id": "e80229c9",
   "metadata": {},
   "outputs": [],
   "source": [
    "#Scrapping the matches data\n",
    "ban_m = soup1.find('td', class_ = 'rankings-block__banner--matches').text\n",
    "team_m = soup1.find_all('td', class_ = 'table-body__cell u-center-text')\n",
    "match = []\n",
    "for m in team_m:\n",
    "    match.append(m.text)"
   ]
  },
  {
   "cell_type": "code",
   "execution_count": 24,
   "id": "d7eab0c1",
   "metadata": {},
   "outputs": [],
   "source": [
    "matches = match[0:18:2]"
   ]
  },
  {
   "cell_type": "code",
   "execution_count": 25,
   "id": "749d8dfb",
   "metadata": {},
   "outputs": [],
   "source": [
    "#insert data to the list\n",
    "matches.insert(0,ban_m)\n",
    "team_matches = matches[0:10]"
   ]
  },
  {
   "cell_type": "code",
   "execution_count": 26,
   "id": "aa7ea53b",
   "metadata": {},
   "outputs": [],
   "source": [
    "#insert the data to the list\n",
    "matches.insert(0,ban_m)\n",
    "team_matches = matches[0:10]"
   ]
  },
  {
   "cell_type": "code",
   "execution_count": 27,
   "id": "ae9c8534",
   "metadata": {},
   "outputs": [],
   "source": [
    "#scraping the rating data\n",
    "ban_p = soup1.find('td', class_ = 'rankings-block__banner--points').text\n",
    "team_p = match[1:18:2]"
   ]
  },
  {
   "cell_type": "code",
   "execution_count": 28,
   "id": "26dac000",
   "metadata": {},
   "outputs": [],
   "source": [
    "#Inserting Banner data to the list\n",
    "team_p.insert(0,ban_p)"
   ]
  },
  {
   "cell_type": "code",
   "execution_count": 29,
   "id": "db3b15e2",
   "metadata": {},
   "outputs": [],
   "source": [
    "#Scrape rating\n",
    "ban_r = soup1.find('td', class_ = 'rankings-block__banner--rating u-text-right').text.replace('\\n','').strip()\n",
    "team_r = soup1.find_all('td', class_ = 'table-body__cell u-text-right rating')\n",
    "\n",
    "t_ratings = []\n",
    "\n",
    "for i in team_r:\n",
    "    t_ratings.append(i.text)"
   ]
  },
  {
   "cell_type": "code",
   "execution_count": 30,
   "id": "45405084",
   "metadata": {},
   "outputs": [],
   "source": [
    "#Inserting data to the list\n",
    "t_ratings.insert(0,ban_r)\n",
    "ratings = t_ratings[0:10]\n"
   ]
  },
  {
   "cell_type": "code",
   "execution_count": 31,
   "id": "f4adfef4",
   "metadata": {},
   "outputs": [],
   "source": [
    "#Creating own index value.\n",
    "index1 = {1,2,3,4,5,6,7,8,9,10}"
   ]
  },
  {
   "cell_type": "markdown",
   "id": "bf0c69be",
   "metadata": {},
   "source": [
    "#Create DataFrame to showcase Top 10 ODI teams in men’s cricket along with the records for matches, points and rating.\n",
    "import pandas as pd\n",
    "ODI_t = pd.DataFrame({'Country':team_name,'Matches':team_matches,'Points':team_p,'Rating':ratings},index1)\n",
    "ODI_t"
   ]
  },
  {
   "cell_type": "code",
   "execution_count": 32,
   "id": "24ae8faa",
   "metadata": {},
   "outputs": [
    {
     "data": {
      "text/html": [
       "<div>\n",
       "<style scoped>\n",
       "    .dataframe tbody tr th:only-of-type {\n",
       "        vertical-align: middle;\n",
       "    }\n",
       "\n",
       "    .dataframe tbody tr th {\n",
       "        vertical-align: top;\n",
       "    }\n",
       "\n",
       "    .dataframe thead th {\n",
       "        text-align: right;\n",
       "    }\n",
       "</style>\n",
       "<table border=\"1\" class=\"dataframe\">\n",
       "  <thead>\n",
       "    <tr style=\"text-align: right;\">\n",
       "      <th></th>\n",
       "      <th>Country</th>\n",
       "      <th>Matches</th>\n",
       "      <th>Points</th>\n",
       "      <th>Rating</th>\n",
       "    </tr>\n",
       "  </thead>\n",
       "  <tbody>\n",
       "    <tr>\n",
       "      <th>1</th>\n",
       "      <td>Australia</td>\n",
       "      <td>23</td>\n",
       "      <td>2,714</td>\n",
       "      <td>118</td>\n",
       "    </tr>\n",
       "    <tr>\n",
       "      <th>2</th>\n",
       "      <td>Pakistan</td>\n",
       "      <td>23</td>\n",
       "      <td>2,316</td>\n",
       "      <td>116</td>\n",
       "    </tr>\n",
       "    <tr>\n",
       "      <th>3</th>\n",
       "      <td>India</td>\n",
       "      <td>20</td>\n",
       "      <td>3,807</td>\n",
       "      <td>115</td>\n",
       "    </tr>\n",
       "    <tr>\n",
       "      <th>4</th>\n",
       "      <td>New Zealand</td>\n",
       "      <td>33</td>\n",
       "      <td>2,806</td>\n",
       "      <td>104</td>\n",
       "    </tr>\n",
       "    <tr>\n",
       "      <th>5</th>\n",
       "      <td>England</td>\n",
       "      <td>27</td>\n",
       "      <td>2,426</td>\n",
       "      <td>101</td>\n",
       "    </tr>\n",
       "    <tr>\n",
       "      <th>6</th>\n",
       "      <td>South Africa</td>\n",
       "      <td>24</td>\n",
       "      <td>1,910</td>\n",
       "      <td>101</td>\n",
       "    </tr>\n",
       "    <tr>\n",
       "      <th>7</th>\n",
       "      <td>Bangladesh</td>\n",
       "      <td>19</td>\n",
       "      <td>2,451</td>\n",
       "      <td>98</td>\n",
       "    </tr>\n",
       "    <tr>\n",
       "      <th>8</th>\n",
       "      <td>Sri Lanka</td>\n",
       "      <td>25</td>\n",
       "      <td>2,378</td>\n",
       "      <td>85</td>\n",
       "    </tr>\n",
       "    <tr>\n",
       "      <th>9</th>\n",
       "      <td>Afghanistan</td>\n",
       "      <td>28</td>\n",
       "      <td>1,067</td>\n",
       "      <td>82</td>\n",
       "    </tr>\n",
       "    <tr>\n",
       "      <th>10</th>\n",
       "      <td>West Indies</td>\n",
       "      <td>13</td>\n",
       "      <td>2,201</td>\n",
       "      <td>69</td>\n",
       "    </tr>\n",
       "  </tbody>\n",
       "</table>\n",
       "</div>"
      ],
      "text/plain": [
       "         Country Matches Points Rating\n",
       "1      Australia      23  2,714    118\n",
       "2       Pakistan      23  2,316    116\n",
       "3          India      20  3,807    115\n",
       "4    New Zealand      33  2,806    104\n",
       "5        England      27  2,426    101\n",
       "6   South Africa      24  1,910    101\n",
       "7     Bangladesh      19  2,451     98\n",
       "8      Sri Lanka      25  2,378     85\n",
       "9    Afghanistan      28  1,067     82\n",
       "10   West Indies      13  2,201     69"
      ]
     },
     "execution_count": 32,
     "metadata": {},
     "output_type": "execute_result"
    }
   ],
   "source": [
    "#Create DataFrame to showcase Top 10 ODI teams in men’s cricket along with the records for matches, points and rating.\n",
    "ODI_t = pd.DataFrame({'Country':team_name,'Matches':team_matches,'Points':team_p,'Rating':ratings},index1)\n",
    "ODI_t"
   ]
  },
  {
   "cell_type": "code",
   "execution_count": null,
   "id": "e072309e",
   "metadata": {},
   "outputs": [],
   "source": []
  },
  {
   "cell_type": "code",
   "execution_count": null,
   "id": "5b477c26",
   "metadata": {},
   "outputs": [],
   "source": []
  },
  {
   "cell_type": "code",
   "execution_count": null,
   "id": "c19a9d12",
   "metadata": {},
   "outputs": [],
   "source": []
  },
  {
   "cell_type": "code",
   "execution_count": null,
   "id": "9cb95e26",
   "metadata": {},
   "outputs": [],
   "source": []
  }
 ],
 "metadata": {
  "kernelspec": {
   "display_name": "Python 3 (ipykernel)",
   "language": "python",
   "name": "python3"
  },
  "language_info": {
   "codemirror_mode": {
    "name": "ipython",
    "version": 3
   },
   "file_extension": ".py",
   "mimetype": "text/x-python",
   "name": "python",
   "nbconvert_exporter": "python",
   "pygments_lexer": "ipython3",
   "version": "3.9.13"
  }
 },
 "nbformat": 4,
 "nbformat_minor": 5
}
