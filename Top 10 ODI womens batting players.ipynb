{
 "cells": [
  {
   "cell_type": "markdown",
   "id": "b0f00764",
   "metadata": {},
   "source": [
    "Question no 4 (B)"
   ]
  },
  {
   "cell_type": "code",
   "execution_count": 21,
   "id": "a7083512",
   "metadata": {},
   "outputs": [],
   "source": [
    "import requests\n",
    "from bs4 import BeautifulSoup\n",
    "import pandas as pd"
   ]
  },
  {
   "cell_type": "code",
   "execution_count": 22,
   "id": "4adb51e9",
   "metadata": {},
   "outputs": [],
   "source": [
    "#Sending request to the webpage.\n",
    "page = requests.get('https://www.icc-cricket.com/rankings/womens/player-rankings/odi/batting')"
   ]
  },
  {
   "cell_type": "code",
   "execution_count": 23,
   "id": "3c1e9788",
   "metadata": {},
   "outputs": [],
   "source": [
    "#Creating soup\n",
    "soup = BeautifulSoup(page.content,'html.parser')"
   ]
  },
  {
   "cell_type": "code",
   "execution_count": 24,
   "id": "029b7e62",
   "metadata": {},
   "outputs": [],
   "source": [
    "#Scraping banner player\n",
    "b_p = soup.find('div',class_ = 'rankings-block__banner--name-large').text\n",
    "rest_p = soup.find_all('td', class_ = 'table-body__cell rankings-table__name name')\n",
    "players1 = []\n",
    "\n",
    "for i in rest_p:\n",
    "    players1.append(i.text.replace('\\n',''))"
   ]
  },
  {
   "cell_type": "code",
   "execution_count": 25,
   "id": "ae762ac9",
   "metadata": {},
   "outputs": [],
   "source": [
    "#Inserting banner player name to the list and showing only top 10 players.\n",
    "players1.insert(0,b_p)\n",
    "playerss = players1[0:10]"
   ]
  },
  {
   "cell_type": "code",
   "execution_count": 26,
   "id": "772f15c1",
   "metadata": {},
   "outputs": [],
   "source": [
    "#Scraping team details from the webpage\n",
    "b_team = soup.find('div', class_ = 'rankings-block__banner--nationality').text.replace('\\n','')\n",
    "r_team = soup.find_all('td', class_ = 'table-body__cell nationality-logo rankings-table__team')\n",
    "w_team = []\n",
    "\n",
    "for i in r_team:\n",
    "    w_team.append(i.text.replace('\\n',''))"
   ]
  },
  {
   "cell_type": "code",
   "execution_count": 27,
   "id": "b6ef5cde",
   "metadata": {},
   "outputs": [],
   "source": [
    "#Inserting banner team details to the list\n",
    "w_team.insert(0,b_team)\n",
    "women_team = w_team[0:10]"
   ]
  },
  {
   "cell_type": "code",
   "execution_count": 28,
   "id": "ecf6b75c",
   "metadata": {},
   "outputs": [],
   "source": [
    "#Scraping rating from the webpage\n",
    "b_rat = soup.find('div', class_ = 'rankings-block__banner--rating').text\n",
    "r_rat = soup.find_all('td', class_ = 'table-body__cell rating')\n",
    "w_rat = []\n",
    "\n",
    "for i in r_rat:\n",
    "    w_rat.append(i.text)"
   ]
  },
  {
   "cell_type": "code",
   "execution_count": 29,
   "id": "32100bc3",
   "metadata": {},
   "outputs": [],
   "source": [
    "#Insert banner rating to the list\n",
    "w_rat.insert(0,b_rat)\n",
    "women_rating = w_rat[0:10]"
   ]
  },
  {
   "cell_type": "code",
   "execution_count": 30,
   "id": "092d621a",
   "metadata": {},
   "outputs": [],
   "source": [
    "#Creating index value.\n",
    "index = {1,2,3,4,5,6,7,8,9,10}"
   ]
  },
  {
   "cell_type": "code",
   "execution_count": 31,
   "id": "a8405905",
   "metadata": {},
   "outputs": [
    {
     "data": {
      "text/html": [
       "<div>\n",
       "<style scoped>\n",
       "    .dataframe tbody tr th:only-of-type {\n",
       "        vertical-align: middle;\n",
       "    }\n",
       "\n",
       "    .dataframe tbody tr th {\n",
       "        vertical-align: top;\n",
       "    }\n",
       "\n",
       "    .dataframe thead th {\n",
       "        text-align: right;\n",
       "    }\n",
       "</style>\n",
       "<table border=\"1\" class=\"dataframe\">\n",
       "  <thead>\n",
       "    <tr style=\"text-align: right;\">\n",
       "      <th></th>\n",
       "      <th>Players</th>\n",
       "      <th>Team</th>\n",
       "      <th>Rating</th>\n",
       "    </tr>\n",
       "  </thead>\n",
       "  <tbody>\n",
       "    <tr>\n",
       "      <th>1</th>\n",
       "      <td>Chamari Athapaththu</td>\n",
       "      <td>SL</td>\n",
       "      <td>758</td>\n",
       "    </tr>\n",
       "    <tr>\n",
       "      <th>2</th>\n",
       "      <td>Beth Mooney</td>\n",
       "      <td>AUS</td>\n",
       "      <td>754</td>\n",
       "    </tr>\n",
       "    <tr>\n",
       "      <th>3</th>\n",
       "      <td>Laura Wolvaardt</td>\n",
       "      <td>SA</td>\n",
       "      <td>732</td>\n",
       "    </tr>\n",
       "    <tr>\n",
       "      <th>4</th>\n",
       "      <td>Natalie Sciver</td>\n",
       "      <td>ENG</td>\n",
       "      <td>731</td>\n",
       "    </tr>\n",
       "    <tr>\n",
       "      <th>5</th>\n",
       "      <td>Meg Lanning</td>\n",
       "      <td>AUS</td>\n",
       "      <td>717</td>\n",
       "    </tr>\n",
       "    <tr>\n",
       "      <th>6</th>\n",
       "      <td>Harmanpreet Kaur</td>\n",
       "      <td>IND</td>\n",
       "      <td>716</td>\n",
       "    </tr>\n",
       "    <tr>\n",
       "      <th>7</th>\n",
       "      <td>Smriti Mandhana</td>\n",
       "      <td>IND</td>\n",
       "      <td>714</td>\n",
       "    </tr>\n",
       "    <tr>\n",
       "      <th>8</th>\n",
       "      <td>Ellyse Perry</td>\n",
       "      <td>AUS</td>\n",
       "      <td>626</td>\n",
       "    </tr>\n",
       "    <tr>\n",
       "      <th>9</th>\n",
       "      <td>Stafanie Taylor</td>\n",
       "      <td>WI</td>\n",
       "      <td>618</td>\n",
       "    </tr>\n",
       "    <tr>\n",
       "      <th>10</th>\n",
       "      <td>Tammy Beaumont</td>\n",
       "      <td>ENG</td>\n",
       "      <td>595</td>\n",
       "    </tr>\n",
       "  </tbody>\n",
       "</table>\n",
       "</div>"
      ],
      "text/plain": [
       "                Players Team Rating\n",
       "1   Chamari Athapaththu   SL    758\n",
       "2           Beth Mooney  AUS    754\n",
       "3       Laura Wolvaardt   SA    732\n",
       "4        Natalie Sciver  ENG    731\n",
       "5           Meg Lanning  AUS    717\n",
       "6      Harmanpreet Kaur  IND    716\n",
       "7       Smriti Mandhana  IND    714\n",
       "8          Ellyse Perry  AUS    626\n",
       "9       Stafanie Taylor   WI    618\n",
       "10       Tammy Beaumont  ENG    595"
      ]
     },
     "execution_count": 31,
     "metadata": {},
     "output_type": "execute_result"
    }
   ],
   "source": [
    "#Creating DataFrame to display Top 10 women’s ODI Batting players of team and rating.\n",
    "Women_batting = pd.DataFrame({'Players':playerss,'Team':women_team,'Rating':women_rating},index)\n",
    "Women_batting"
   ]
  },
  {
   "cell_type": "code",
   "execution_count": null,
   "id": "b9448343",
   "metadata": {},
   "outputs": [],
   "source": []
  }
 ],
 "metadata": {
  "kernelspec": {
   "display_name": "Python 3 (ipykernel)",
   "language": "python",
   "name": "python3"
  },
  "language_info": {
   "codemirror_mode": {
    "name": "ipython",
    "version": 3
   },
   "file_extension": ".py",
   "mimetype": "text/x-python",
   "name": "python",
   "nbconvert_exporter": "python",
   "pygments_lexer": "ipython3",
   "version": "3.9.13"
  }
 },
 "nbformat": 4,
 "nbformat_minor": 5
}
