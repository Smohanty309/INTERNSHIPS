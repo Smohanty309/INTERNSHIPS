{
 "cells": [
  {
   "cell_type": "markdown",
   "id": "b93cb8ed",
   "metadata": {},
   "source": [
    "Question no 6\n"
   ]
  },
  {
   "cell_type": "code",
   "execution_count": 2,
   "id": "f410d063",
   "metadata": {},
   "outputs": [],
   "source": [
    "import requests\n",
    "from bs4 import BeautifulSoup\n",
    "import pandas as pd"
   ]
  },
  {
   "cell_type": "code",
   "execution_count": 3,
   "id": "60816f71",
   "metadata": {},
   "outputs": [],
   "source": [
    "#Sending request to the webpage.\n",
    "page = 'https://www.journals.elsevier.com/artificial-intelligence/most-downloaded-articles'\n",
    "ai = requests.get(page)\n"
   ]
  },
  {
   "cell_type": "code",
   "execution_count": 4,
   "id": "a8a9491a",
   "metadata": {},
   "outputs": [],
   "source": [
    "#Create soup\n",
    "soup = BeautifulSoup(ai.content,'html.parser')"
   ]
  },
  {
   "cell_type": "code",
   "execution_count": 5,
   "id": "bf56c873",
   "metadata": {},
   "outputs": [],
   "source": [
    "#Scraping Paper title\n",
    "paper = []\n",
    "p = soup.findAll('a', class_ = 'sc-5smygv-0 fIXTHm')\n",
    "\n",
    "for pa in p:\n",
    "    paper.append(pa.text)"
   ]
  },
  {
   "cell_type": "code",
   "execution_count": 7,
   "id": "f85638b3",
   "metadata": {},
   "outputs": [],
   "source": [
    "#Scraping Authors detail\n",
    "auth = []\n",
    "for au in soup.findAll('span', class_ = 'sc-1w3fpd7-0 dnCnAO'):\n",
    "    auth.append(au.text)"
   ]
  },
  {
   "cell_type": "code",
   "execution_count": 8,
   "id": "bcc3395b",
   "metadata": {},
   "outputs": [],
   "source": [
    "#Scraping Published dates \n",
    "pub = []\n",
    "\n",
    "for p in soup.findAll('span', class_ = 'sc-1thf9ly-2 dvggWt'):\n",
    "    pub.append(p.text)"
   ]
  },
  {
   "cell_type": "code",
   "execution_count": 12,
   "id": "e9dcdb8a",
   "metadata": {},
   "outputs": [],
   "source": [
    "#Scraping paper URLs\n",
    "urls = []\n",
    "for u in soup.findAll('li', class_ = 'sc-9zxyh7-1 sc-9zxyh7-2 kOEIEO hvoVxs'):\n",
    "    urls.append(u.a['href'])"
   ]
  },
  {
   "cell_type": "code",
   "execution_count": 13,
   "id": "baf45125",
   "metadata": {},
   "outputs": [
    {
     "name": "stderr",
     "output_type": "stream",
     "text": [
      "C:\\Users\\Sandeep\\AppData\\Local\\Temp\\ipykernel_10004\\341722126.py:3: FutureWarning: this method is deprecated in favour of `Styler.hide(axis='index')`\n",
      "  ai = ai.style.hide_index()\n"
     ]
    },
    {
     "data": {
      "text/html": [
       "<style type=\"text/css\">\n",
       "</style>\n",
       "<table id=\"T_32983\">\n",
       "  <thead>\n",
       "    <tr>\n",
       "      <th id=\"T_32983_level0_col0\" class=\"col_heading level0 col0\" >Paper Title</th>\n",
       "      <th id=\"T_32983_level0_col1\" class=\"col_heading level0 col1\" >Authors</th>\n",
       "      <th id=\"T_32983_level0_col2\" class=\"col_heading level0 col2\" >Published Date</th>\n",
       "      <th id=\"T_32983_level0_col3\" class=\"col_heading level0 col3\" >Paper URL</th>\n",
       "    </tr>\n",
       "  </thead>\n",
       "  <tbody>\n",
       "    <tr>\n",
       "      <td id=\"T_32983_row0_col0\" class=\"data row0 col0\" >Reward is enough</td>\n",
       "      <td id=\"T_32983_row0_col1\" class=\"data row0 col1\" >David Silver, Satinder Singh, Doina Precup, Richard S. Sutton </td>\n",
       "      <td id=\"T_32983_row0_col2\" class=\"data row0 col2\" >October 2021</td>\n",
       "      <td id=\"T_32983_row0_col3\" class=\"data row0 col3\" >https://www.sciencedirect.com/science/article/pii/S0004370221000862</td>\n",
       "    </tr>\n",
       "    <tr>\n",
       "      <td id=\"T_32983_row1_col0\" class=\"data row1 col0\" >Explanation in artificial intelligence: Insights from the social sciences</td>\n",
       "      <td id=\"T_32983_row1_col1\" class=\"data row1 col1\" >Tim Miller </td>\n",
       "      <td id=\"T_32983_row1_col2\" class=\"data row1 col2\" >February 2019</td>\n",
       "      <td id=\"T_32983_row1_col3\" class=\"data row1 col3\" >https://www.sciencedirect.com/science/article/pii/S0004370218305988</td>\n",
       "    </tr>\n",
       "    <tr>\n",
       "      <td id=\"T_32983_row2_col0\" class=\"data row2 col0\" >Creativity and artificial intelligence</td>\n",
       "      <td id=\"T_32983_row2_col1\" class=\"data row2 col1\" >Margaret A. Boden </td>\n",
       "      <td id=\"T_32983_row2_col2\" class=\"data row2 col2\" >August 1998</td>\n",
       "      <td id=\"T_32983_row2_col3\" class=\"data row2 col3\" >https://www.sciencedirect.com/science/article/pii/S0004370298000551</td>\n",
       "    </tr>\n",
       "    <tr>\n",
       "      <td id=\"T_32983_row3_col0\" class=\"data row3 col0\" >Conflict-based search for optimal multi-agent pathfinding</td>\n",
       "      <td id=\"T_32983_row3_col1\" class=\"data row3 col1\" >Guni Sharon, Roni Stern, Ariel Felner, Nathan R. Sturtevant </td>\n",
       "      <td id=\"T_32983_row3_col2\" class=\"data row3 col2\" >February 2015</td>\n",
       "      <td id=\"T_32983_row3_col3\" class=\"data row3 col3\" >https://www.sciencedirect.com/science/article/pii/S0004370214001386</td>\n",
       "    </tr>\n",
       "    <tr>\n",
       "      <td id=\"T_32983_row4_col0\" class=\"data row4 col0\" >Knowledge graphs as tools for explainable machine learning: A survey</td>\n",
       "      <td id=\"T_32983_row4_col1\" class=\"data row4 col1\" >Ilaria Tiddi, Stefan Schlobach </td>\n",
       "      <td id=\"T_32983_row4_col2\" class=\"data row4 col2\" >January 2022</td>\n",
       "      <td id=\"T_32983_row4_col3\" class=\"data row4 col3\" >https://www.sciencedirect.com/science/article/pii/S0004370221001788</td>\n",
       "    </tr>\n",
       "    <tr>\n",
       "      <td id=\"T_32983_row5_col0\" class=\"data row5 col0\" >Law and logic: A review from an argumentation perspective</td>\n",
       "      <td id=\"T_32983_row5_col1\" class=\"data row5 col1\" >Henry Prakken, Giovanni Sartor </td>\n",
       "      <td id=\"T_32983_row5_col2\" class=\"data row5 col2\" >October 2015</td>\n",
       "      <td id=\"T_32983_row5_col3\" class=\"data row5 col3\" >https://www.sciencedirect.com/science/article/pii/S0004370215000910</td>\n",
       "    </tr>\n",
       "    <tr>\n",
       "      <td id=\"T_32983_row6_col0\" class=\"data row6 col0\" >Between MDPs and semi-MDPs: A framework for temporal abstraction in reinforcement learning</td>\n",
       "      <td id=\"T_32983_row6_col1\" class=\"data row6 col1\" >Richard S. Sutton, Doina Precup, Satinder Singh </td>\n",
       "      <td id=\"T_32983_row6_col2\" class=\"data row6 col2\" >August 1999</td>\n",
       "      <td id=\"T_32983_row6_col3\" class=\"data row6 col3\" >https://www.sciencedirect.com/science/article/pii/S0004370299000521</td>\n",
       "    </tr>\n",
       "    <tr>\n",
       "      <td id=\"T_32983_row7_col0\" class=\"data row7 col0\" >Explaining individual predictions when features are dependent: More accurate approximations to Shapley values</td>\n",
       "      <td id=\"T_32983_row7_col1\" class=\"data row7 col1\" >Kjersti Aas, Martin Jullum, Anders Løland </td>\n",
       "      <td id=\"T_32983_row7_col2\" class=\"data row7 col2\" >September 2021</td>\n",
       "      <td id=\"T_32983_row7_col3\" class=\"data row7 col3\" >https://www.sciencedirect.com/science/article/pii/S0004370221000539</td>\n",
       "    </tr>\n",
       "    <tr>\n",
       "      <td id=\"T_32983_row8_col0\" class=\"data row8 col0\" >Multiple object tracking: A literature review</td>\n",
       "      <td id=\"T_32983_row8_col1\" class=\"data row8 col1\" >Wenhan Luo, Junliang Xing and 4 more</td>\n",
       "      <td id=\"T_32983_row8_col2\" class=\"data row8 col2\" >April 2021</td>\n",
       "      <td id=\"T_32983_row8_col3\" class=\"data row8 col3\" >https://www.sciencedirect.com/science/article/pii/S0004370220301958</td>\n",
       "    </tr>\n",
       "    <tr>\n",
       "      <td id=\"T_32983_row9_col0\" class=\"data row9 col0\" >A survey of inverse reinforcement learning: Challenges, methods and progress</td>\n",
       "      <td id=\"T_32983_row9_col1\" class=\"data row9 col1\" >Saurabh Arora, Prashant Doshi </td>\n",
       "      <td id=\"T_32983_row9_col2\" class=\"data row9 col2\" >August 2021</td>\n",
       "      <td id=\"T_32983_row9_col3\" class=\"data row9 col3\" >https://www.sciencedirect.com/science/article/pii/S0004370221000515</td>\n",
       "    </tr>\n",
       "    <tr>\n",
       "      <td id=\"T_32983_row10_col0\" class=\"data row10 col0\" >Evaluating XAI: A comparison of rule-based and example-based explanations</td>\n",
       "      <td id=\"T_32983_row10_col1\" class=\"data row10 col1\" >Jasper van der Waa, Elisabeth Nieuwburg, Anita Cremers, Mark Neerincx </td>\n",
       "      <td id=\"T_32983_row10_col2\" class=\"data row10 col2\" >February 2021</td>\n",
       "      <td id=\"T_32983_row10_col3\" class=\"data row10 col3\" >https://www.sciencedirect.com/science/article/pii/S0004370220301533</td>\n",
       "    </tr>\n",
       "    <tr>\n",
       "      <td id=\"T_32983_row11_col0\" class=\"data row11 col0\" >Explainable AI tools for legal reasoning about cases: A study on the European Court of Human Rights</td>\n",
       "      <td id=\"T_32983_row11_col1\" class=\"data row11 col1\" >Joe Collenette, Katie Atkinson, Trevor Bench-Capon </td>\n",
       "      <td id=\"T_32983_row11_col2\" class=\"data row11 col2\" >April 2023</td>\n",
       "      <td id=\"T_32983_row11_col3\" class=\"data row11 col3\" >https://www.sciencedirect.com/science/article/pii/S0004370223000073</td>\n",
       "    </tr>\n",
       "    <tr>\n",
       "      <td id=\"T_32983_row12_col0\" class=\"data row12 col0\" >Hard choices in artificial intelligence</td>\n",
       "      <td id=\"T_32983_row12_col1\" class=\"data row12 col1\" >Roel Dobbe, Thomas Krendl Gilbert, Yonatan Mintz </td>\n",
       "      <td id=\"T_32983_row12_col2\" class=\"data row12 col2\" >November 2021</td>\n",
       "      <td id=\"T_32983_row12_col3\" class=\"data row12 col3\" >https://www.sciencedirect.com/science/article/pii/S0004370221001065</td>\n",
       "    </tr>\n",
       "    <tr>\n",
       "      <td id=\"T_32983_row13_col0\" class=\"data row13 col0\" >Assessing the communication gap between AI models and healthcare professionals: Explainability, utility and trust in AI-driven clinical decision-making</td>\n",
       "      <td id=\"T_32983_row13_col1\" class=\"data row13 col1\" >Oskar Wysocki, Jessica Katharine Davies and 5 more</td>\n",
       "      <td id=\"T_32983_row13_col2\" class=\"data row13 col2\" >March 2023</td>\n",
       "      <td id=\"T_32983_row13_col3\" class=\"data row13 col3\" >https://www.sciencedirect.com/science/article/pii/S0004370222001795</td>\n",
       "    </tr>\n",
       "    <tr>\n",
       "      <td id=\"T_32983_row14_col0\" class=\"data row14 col0\" >Explaining black-box classifiers using post-hoc explanations-by-example: The effect of explanations and error-rates in XAI user studies</td>\n",
       "      <td id=\"T_32983_row14_col1\" class=\"data row14 col1\" >Eoin M. Kenny, Courtney Ford, Molly Quinn, Mark T. Keane </td>\n",
       "      <td id=\"T_32983_row14_col2\" class=\"data row14 col2\" >May 2021</td>\n",
       "      <td id=\"T_32983_row14_col3\" class=\"data row14 col3\" >https://www.sciencedirect.com/science/article/pii/S0004370221000102</td>\n",
       "    </tr>\n",
       "    <tr>\n",
       "      <td id=\"T_32983_row15_col0\" class=\"data row15 col0\" >The Hanabi challenge: A new frontier for AI research</td>\n",
       "      <td id=\"T_32983_row15_col1\" class=\"data row15 col1\" >Nolan Bard, Jakob N. Foerster and 13 more</td>\n",
       "      <td id=\"T_32983_row15_col2\" class=\"data row15 col2\" >March 2020</td>\n",
       "      <td id=\"T_32983_row15_col3\" class=\"data row15 col3\" >https://www.sciencedirect.com/science/article/pii/S0004370219300116</td>\n",
       "    </tr>\n",
       "    <tr>\n",
       "      <td id=\"T_32983_row16_col0\" class=\"data row16 col0\" >Wrappers for feature subset selection</td>\n",
       "      <td id=\"T_32983_row16_col1\" class=\"data row16 col1\" >Ron Kohavi, George H. John </td>\n",
       "      <td id=\"T_32983_row16_col2\" class=\"data row16 col2\" >December 1997</td>\n",
       "      <td id=\"T_32983_row16_col3\" class=\"data row16 col3\" >https://www.sciencedirect.com/science/article/pii/S000437029700043X</td>\n",
       "    </tr>\n",
       "    <tr>\n",
       "      <td id=\"T_32983_row17_col0\" class=\"data row17 col0\" >Artificial cognition for social human–robot interaction: An implementation</td>\n",
       "      <td id=\"T_32983_row17_col1\" class=\"data row17 col1\" >Séverin Lemaignan, Mathieu Warnier and 3 more</td>\n",
       "      <td id=\"T_32983_row17_col2\" class=\"data row17 col2\" >June 2017</td>\n",
       "      <td id=\"T_32983_row17_col3\" class=\"data row17 col3\" >https://www.sciencedirect.com/science/article/pii/S0004370216300790</td>\n",
       "    </tr>\n",
       "    <tr>\n",
       "      <td id=\"T_32983_row18_col0\" class=\"data row18 col0\" >A review of possible effects of cognitive biases on interpretation of rule-based machine learning models</td>\n",
       "      <td id=\"T_32983_row18_col1\" class=\"data row18 col1\" >Tomáš Kliegr, Štěpán Bahník, Johannes Fürnkranz </td>\n",
       "      <td id=\"T_32983_row18_col2\" class=\"data row18 col2\" >June 2021</td>\n",
       "      <td id=\"T_32983_row18_col3\" class=\"data row18 col3\" >https://www.sciencedirect.com/science/article/pii/S0004370221000096</td>\n",
       "    </tr>\n",
       "    <tr>\n",
       "      <td id=\"T_32983_row19_col0\" class=\"data row19 col0\" >The multifaceted impact of Ada Lovelace in the digital age</td>\n",
       "      <td id=\"T_32983_row19_col1\" class=\"data row19 col1\" >Luigia Carlucci Aiello </td>\n",
       "      <td id=\"T_32983_row19_col2\" class=\"data row19 col2\" >June 2016</td>\n",
       "      <td id=\"T_32983_row19_col3\" class=\"data row19 col3\" >https://www.sciencedirect.com/science/article/pii/S0004370216300224</td>\n",
       "    </tr>\n",
       "    <tr>\n",
       "      <td id=\"T_32983_row20_col0\" class=\"data row20 col0\" >Robot ethics: Mapping the issues for a mechanized world</td>\n",
       "      <td id=\"T_32983_row20_col1\" class=\"data row20 col1\" >Patrick Lin, Keith Abney, George Bekey </td>\n",
       "      <td id=\"T_32983_row20_col2\" class=\"data row20 col2\" >April 2011</td>\n",
       "      <td id=\"T_32983_row20_col3\" class=\"data row20 col3\" >https://www.sciencedirect.com/science/article/pii/S0004370211000178</td>\n",
       "    </tr>\n",
       "    <tr>\n",
       "      <td id=\"T_32983_row21_col0\" class=\"data row21 col0\" >Reward (Mis)design for autonomous driving</td>\n",
       "      <td id=\"T_32983_row21_col1\" class=\"data row21 col1\" >W. Bradley Knox, Alessandro Allievi and 3 more</td>\n",
       "      <td id=\"T_32983_row21_col2\" class=\"data row21 col2\" >March 2023</td>\n",
       "      <td id=\"T_32983_row21_col3\" class=\"data row21 col3\" >https://www.sciencedirect.com/science/article/pii/S0004370222001692</td>\n",
       "    </tr>\n",
       "    <tr>\n",
       "      <td id=\"T_32983_row22_col0\" class=\"data row22 col0\" >Planning and acting in partially observable stochastic domains</td>\n",
       "      <td id=\"T_32983_row22_col1\" class=\"data row22 col1\" >Leslie Pack Kaelbling, Michael L. Littman, Anthony R. Cassandra </td>\n",
       "      <td id=\"T_32983_row22_col2\" class=\"data row22 col2\" >May 1998</td>\n",
       "      <td id=\"T_32983_row22_col3\" class=\"data row22 col3\" >https://www.sciencedirect.com/science/article/pii/S000437029800023X</td>\n",
       "    </tr>\n",
       "    <tr>\n",
       "      <td id=\"T_32983_row23_col0\" class=\"data row23 col0\" >What do we want from Explainable Artificial Intelligence (XAI)? – A stakeholder perspective on XAI and a conceptual model guiding interdisciplinary XAI research</td>\n",
       "      <td id=\"T_32983_row23_col1\" class=\"data row23 col1\" >Markus Langer, Daniel Oster and 6 more</td>\n",
       "      <td id=\"T_32983_row23_col2\" class=\"data row23 col2\" >July 2021</td>\n",
       "      <td id=\"T_32983_row23_col3\" class=\"data row23 col3\" >https://www.sciencedirect.com/science/article/pii/S0004370221000242</td>\n",
       "    </tr>\n",
       "  </tbody>\n",
       "</table>\n"
      ],
      "text/plain": [
       "<pandas.io.formats.style.Styler at 0x1bb8edde910>"
      ]
     },
     "execution_count": 13,
     "metadata": {},
     "output_type": "execute_result"
    }
   ],
   "source": [
    "#Making a dataframe\n",
    "ai = pd.DataFrame({'Paper Title':paper,'Authors':auth,'Published Date':pub,'Paper URL':urls})\n",
    "ai = ai.style.hide_index()\n",
    "ai"
   ]
  },
  {
   "cell_type": "code",
   "execution_count": null,
   "id": "ab2f2045",
   "metadata": {},
   "outputs": [],
   "source": []
  }
 ],
 "metadata": {
  "kernelspec": {
   "display_name": "Python 3 (ipykernel)",
   "language": "python",
   "name": "python3"
  },
  "language_info": {
   "codemirror_mode": {
    "name": "ipython",
    "version": 3
   },
   "file_extension": ".py",
   "mimetype": "text/x-python",
   "name": "python",
   "nbconvert_exporter": "python",
   "pygments_lexer": "ipython3",
   "version": "3.9.13"
  }
 },
 "nbformat": 4,
 "nbformat_minor": 5
}
