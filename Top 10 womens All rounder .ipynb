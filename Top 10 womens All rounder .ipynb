{
 "cells": [
  {
   "cell_type": "markdown",
   "id": "df1e764c",
   "metadata": {},
   "source": [
    "Question no 4 (C)"
   ]
  },
  {
   "cell_type": "code",
   "execution_count": 1,
   "id": "5202f641",
   "metadata": {},
   "outputs": [],
   "source": [
    "import requests\n",
    "from bs4 import BeautifulSoup\n",
    "import pandas as pd"
   ]
  },
  {
   "cell_type": "code",
   "execution_count": 2,
   "id": "9af8e56e",
   "metadata": {},
   "outputs": [],
   "source": [
    "#Sending request to the website server to scrap page content\n",
    "page = requests.get('https://www.icc-cricket.com/rankings/womens/player-rankings/odi/all-rounder')\n"
   ]
  },
  {
   "cell_type": "code",
   "execution_count": 6,
   "id": "55cb77f0",
   "metadata": {},
   "outputs": [],
   "source": [
    "#Creating soup to extract content\n",
    "soup = BeautifulSoup(page.content,'html.parser')"
   ]
  },
  {
   "cell_type": "code",
   "execution_count": 7,
   "id": "22a1a25e",
   "metadata": {},
   "outputs": [],
   "source": [
    "#Scrap the players data\n",
    "banner_n = soup.find('div', class_ = 'rankings-block__banner--name-large').text\n",
    "rest_n = soup.find_all('td', class_ = 'table-body__cell rankings-table__name name')\n",
    "p = []\n",
    "\n",
    "for i in rest_n:\n",
    "    p.append(i.text.replace('\\n',''))"
   ]
  },
  {
   "cell_type": "code",
   "execution_count": 8,
   "id": "61dd0b11",
   "metadata": {},
   "outputs": [],
   "source": [
    "#Inserting banner player to the list.\n",
    "p.insert(0,banner_n)\n",
    "play = p[0:10]"
   ]
  },
  {
   "cell_type": "code",
   "execution_count": 9,
   "id": "193a3fed",
   "metadata": {},
   "outputs": [],
   "source": [
    "#Scraping team details.\n",
    "b_team = soup.find('div', class_ = 'rankings-block__banner--nationality').text.replace('\\n','')\n",
    "rest_team = soup.find_all('td', class_ = 'table-body__cell nationality-logo rankings-table__team')\n",
    "all_team = []\n",
    "\n",
    "for i in rest_team:\n",
    "    all_team.append(i.text.replace('\\n',''))"
   ]
  },
  {
   "cell_type": "code",
   "execution_count": 10,
   "id": "87c57b10",
   "metadata": {},
   "outputs": [],
   "source": [
    "#Inserting banner team to the list\n",
    "all_team.insert(0,b_team)\n",
    "al_team = all_team[0:10]"
   ]
  },
  {
   "cell_type": "code",
   "execution_count": 11,
   "id": "2ebb0e5e",
   "metadata": {},
   "outputs": [],
   "source": [
    "#Scraping rating\n",
    "bann_rating = soup.find('div', class_ = 'rankings-block__banner--rating').text\n",
    "rest_rating = soup.find_all('td', class_ = 'table-body__cell rating')\n",
    "al_rat = []\n",
    "\n",
    "for i in rest_rating:\n",
    "    al_rat.append(i.text)"
   ]
  },
  {
   "cell_type": "code",
   "execution_count": 12,
   "id": "6542c886",
   "metadata": {},
   "outputs": [],
   "source": [
    "#Inserting banner rating to the list.\n",
    "al_rat.insert(0,bann_rating)\n",
    "all_rating = al_rat[0:10]"
   ]
  },
  {
   "cell_type": "code",
   "execution_count": 13,
   "id": "017955c8",
   "metadata": {},
   "outputs": [],
   "source": [
    "#Creating index value.\n",
    "index6 = {1,2,3,4,5,6,7,8,9,10}"
   ]
  },
  {
   "cell_type": "code",
   "execution_count": 14,
   "id": "fb3e82a1",
   "metadata": {},
   "outputs": [
    {
     "data": {
      "text/html": [
       "<div>\n",
       "<style scoped>\n",
       "    .dataframe tbody tr th:only-of-type {\n",
       "        vertical-align: middle;\n",
       "    }\n",
       "\n",
       "    .dataframe tbody tr th {\n",
       "        vertical-align: top;\n",
       "    }\n",
       "\n",
       "    .dataframe thead th {\n",
       "        text-align: right;\n",
       "    }\n",
       "</style>\n",
       "<table border=\"1\" class=\"dataframe\">\n",
       "  <thead>\n",
       "    <tr style=\"text-align: right;\">\n",
       "      <th></th>\n",
       "      <th>Players</th>\n",
       "      <th>Team</th>\n",
       "      <th>Rating</th>\n",
       "    </tr>\n",
       "  </thead>\n",
       "  <tbody>\n",
       "    <tr>\n",
       "      <th>1</th>\n",
       "      <td>Hayley Matthews</td>\n",
       "      <td>WI</td>\n",
       "      <td>382</td>\n",
       "    </tr>\n",
       "    <tr>\n",
       "      <th>2</th>\n",
       "      <td>Natalie Sciver</td>\n",
       "      <td>ENG</td>\n",
       "      <td>371</td>\n",
       "    </tr>\n",
       "    <tr>\n",
       "      <th>3</th>\n",
       "      <td>Ellyse Perry</td>\n",
       "      <td>AUS</td>\n",
       "      <td>366</td>\n",
       "    </tr>\n",
       "    <tr>\n",
       "      <th>4</th>\n",
       "      <td>Marizanne Kapp</td>\n",
       "      <td>SA</td>\n",
       "      <td>349</td>\n",
       "    </tr>\n",
       "    <tr>\n",
       "      <th>5</th>\n",
       "      <td>Amelia Kerr</td>\n",
       "      <td>NZ</td>\n",
       "      <td>328</td>\n",
       "    </tr>\n",
       "    <tr>\n",
       "      <th>6</th>\n",
       "      <td>Deepti Sharma</td>\n",
       "      <td>IND</td>\n",
       "      <td>322</td>\n",
       "    </tr>\n",
       "    <tr>\n",
       "      <th>7</th>\n",
       "      <td>Ashleigh Gardner</td>\n",
       "      <td>AUS</td>\n",
       "      <td>292</td>\n",
       "    </tr>\n",
       "    <tr>\n",
       "      <th>8</th>\n",
       "      <td>Jess Jonassen</td>\n",
       "      <td>AUS</td>\n",
       "      <td>250</td>\n",
       "    </tr>\n",
       "    <tr>\n",
       "      <th>9</th>\n",
       "      <td>Sophie Devine</td>\n",
       "      <td>NZ</td>\n",
       "      <td>233</td>\n",
       "    </tr>\n",
       "    <tr>\n",
       "      <th>10</th>\n",
       "      <td>Nida Dar</td>\n",
       "      <td>PAK</td>\n",
       "      <td>232</td>\n",
       "    </tr>\n",
       "  </tbody>\n",
       "</table>\n",
       "</div>"
      ],
      "text/plain": [
       "             Players Team Rating\n",
       "1    Hayley Matthews   WI    382\n",
       "2     Natalie Sciver  ENG    371\n",
       "3       Ellyse Perry  AUS    366\n",
       "4     Marizanne Kapp   SA    349\n",
       "5        Amelia Kerr   NZ    328\n",
       "6      Deepti Sharma  IND    322\n",
       "7   Ashleigh Gardner  AUS    292\n",
       "8      Jess Jonassen  AUS    250\n",
       "9      Sophie Devine   NZ    233\n",
       "10          Nida Dar  PAK    232"
      ]
     },
     "execution_count": 14,
     "metadata": {},
     "output_type": "execute_result"
    }
   ],
   "source": [
    "#Creating DataFrame of Top 10 women’s ODI all-rounder team and rating.\n",
    "all_rounder = list(zip(play,al_team,al_rat))\n",
    "All_rounder = pd.DataFrame(all_rounder,index6,columns = ['Players','Team','Rating'])\n",
    "All_rounder\n"
   ]
  },
  {
   "cell_type": "code",
   "execution_count": null,
   "id": "6e7c5b27",
   "metadata": {},
   "outputs": [],
   "source": []
  }
 ],
 "metadata": {
  "kernelspec": {
   "display_name": "Python 3 (ipykernel)",
   "language": "python",
   "name": "python3"
  },
  "language_info": {
   "codemirror_mode": {
    "name": "ipython",
    "version": 3
   },
   "file_extension": ".py",
   "mimetype": "text/x-python",
   "name": "python",
   "nbconvert_exporter": "python",
   "pygments_lexer": "ipython3",
   "version": "3.9.13"
  }
 },
 "nbformat": 4,
 "nbformat_minor": 5
}
