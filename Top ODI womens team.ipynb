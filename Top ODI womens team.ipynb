{
 "cells": [
  {
   "cell_type": "markdown",
   "id": "a828112f",
   "metadata": {},
   "source": [
    "Question no 4 (A)"
   ]
  },
  {
   "cell_type": "code",
   "execution_count": 5,
   "id": "8aa16582",
   "metadata": {},
   "outputs": [],
   "source": [
    "import requests\n",
    "from bs4 import BeautifulSoup\n",
    "import pandas as pd"
   ]
  },
  {
   "cell_type": "code",
   "execution_count": 6,
   "id": "037b5c57",
   "metadata": {},
   "outputs": [],
   "source": [
    "#Sending request to the webpage\n",
    "page = requests.get(\"https://www.icc-cricket.com/rankings/womens/team-rankings/odi\")\n"
   ]
  },
  {
   "cell_type": "code",
   "execution_count": 8,
   "id": "a90040fd",
   "metadata": {},
   "outputs": [],
   "source": [
    "#Creating Soup to scrap data from the webpage\n",
    "soup = BeautifulSoup(page.content,'html.parser')\n"
   ]
  },
  {
   "cell_type": "code",
   "execution_count": 10,
   "id": "fdcc7eb1",
   "metadata": {},
   "outputs": [],
   "source": [
    "#scraping the team details\n",
    "b_t = soup.find('td', class_ = 'rankings-block__banner--team-name').text.split('\\n')[2]\n",
    "r_team = soup.findAll('td', class_ = 'table-body__cell rankings-table__team')\n",
    "te = []\n",
    "for i in r_team:\n",
    "    te.append(i.text.split('\\n')[2])"
   ]
  },
  {
   "cell_type": "code",
   "execution_count": 11,
   "id": "ef35924d",
   "metadata": {},
   "outputs": [],
   "source": [
    "#Inserting banner team details to the list\n",
    "te.insert(0,b_t)\n",
    "teams = te[0:10]"
   ]
  },
  {
   "cell_type": "code",
   "execution_count": 26,
   "id": "ef22f7b0",
   "metadata": {},
   "outputs": [],
   "source": [
    "#scraping the matches \n",
    "b_m = soup.find('td', class_ = 'rankings-block__banner--matches').text\n",
    "r_m = soup.find_all('td', class_ = 'table-body__cell u-center-text')\n",
    "mat = []\n",
    "\n",
    "for i in r_m:\n",
    "    mat.append(i.text)"
   ]
  },
  {
   "cell_type": "code",
   "execution_count": 27,
   "id": "842dec58",
   "metadata": {},
   "outputs": [],
   "source": [
    "#to extract value of matches\n",
    "matc = mat[0:18:2]\n"
   ]
  },
  {
   "cell_type": "code",
   "execution_count": 28,
   "id": "a2b5623d",
   "metadata": {},
   "outputs": [],
   "source": [
    "#Inserting banner matches to the list\n",
    "matc.insert(0,b_m)\n",
    "matches1 = matc[0:10]\n",
    "\n"
   ]
  },
  {
   "cell_type": "code",
   "execution_count": 29,
   "id": "e3850036",
   "metadata": {},
   "outputs": [],
   "source": [
    "#scraping the points.\n",
    "ban_p = soup.find('td', class_ = 'rankings-block__banner--points').text\n",
    "rest_p = mat[1:18:2]\n"
   ]
  },
  {
   "cell_type": "code",
   "execution_count": 30,
   "id": "9121950d",
   "metadata": {},
   "outputs": [],
   "source": [
    "#Inserting banner points to the rest of the points.\n",
    "rest_p.insert(0,ban_p)\n",
    "points = rest_p[0:10]"
   ]
  },
  {
   "cell_type": "code",
   "execution_count": 31,
   "id": "3c695875",
   "metadata": {},
   "outputs": [],
   "source": [
    "#scraping the rating\n",
    "ban_r = soup. find('td', class_ = 'rankings-block__banner--rating u-text-right').text.replace('\\n','').strip()\n",
    "rest_rat = soup.find_all('td', class_ = 'table-body__cell u-text-right rating')\n",
    "ratings1 = []\n",
    "\n",
    "for i in rest_rat:\n",
    "    ratings1.append(i.text.replace('\\n','').strip())"
   ]
  },
  {
   "cell_type": "code",
   "execution_count": 32,
   "id": "1187d7a5",
   "metadata": {},
   "outputs": [],
   "source": [
    "#Inserting ratings to the list\n",
    "ratings1.insert(0,ban_r)\n",
    "rating1 = ratings1[0:10]"
   ]
  },
  {
   "cell_type": "code",
   "execution_count": 33,
   "id": "c147b186",
   "metadata": {},
   "outputs": [],
   "source": [
    "#Creating index value.\n",
    "index4 = {1,2,3,4,5,6,7,8,9,10}"
   ]
  },
  {
   "cell_type": "code",
   "execution_count": 34,
   "id": "0a084488",
   "metadata": {},
   "outputs": [
    {
     "data": {
      "text/html": [
       "<div>\n",
       "<style scoped>\n",
       "    .dataframe tbody tr th:only-of-type {\n",
       "        vertical-align: middle;\n",
       "    }\n",
       "\n",
       "    .dataframe tbody tr th {\n",
       "        vertical-align: top;\n",
       "    }\n",
       "\n",
       "    .dataframe thead th {\n",
       "        text-align: right;\n",
       "    }\n",
       "</style>\n",
       "<table border=\"1\" class=\"dataframe\">\n",
       "  <thead>\n",
       "    <tr style=\"text-align: right;\">\n",
       "      <th></th>\n",
       "      <th>Country</th>\n",
       "      <th>Matches</th>\n",
       "      <th>Points</th>\n",
       "      <th>Rating</th>\n",
       "    </tr>\n",
       "  </thead>\n",
       "  <tbody>\n",
       "    <tr>\n",
       "      <th>1</th>\n",
       "      <td>Australia</td>\n",
       "      <td>21</td>\n",
       "      <td>3,603</td>\n",
       "      <td>172</td>\n",
       "    </tr>\n",
       "    <tr>\n",
       "      <th>2</th>\n",
       "      <td>England</td>\n",
       "      <td>28</td>\n",
       "      <td>3,342</td>\n",
       "      <td>119</td>\n",
       "    </tr>\n",
       "    <tr>\n",
       "      <th>3</th>\n",
       "      <td>South Africa</td>\n",
       "      <td>26</td>\n",
       "      <td>3,098</td>\n",
       "      <td>119</td>\n",
       "    </tr>\n",
       "    <tr>\n",
       "      <th>4</th>\n",
       "      <td>India</td>\n",
       "      <td>27</td>\n",
       "      <td>2,820</td>\n",
       "      <td>104</td>\n",
       "    </tr>\n",
       "    <tr>\n",
       "      <th>5</th>\n",
       "      <td>New Zealand</td>\n",
       "      <td>28</td>\n",
       "      <td>2,688</td>\n",
       "      <td>96</td>\n",
       "    </tr>\n",
       "    <tr>\n",
       "      <th>6</th>\n",
       "      <td>West Indies</td>\n",
       "      <td>29</td>\n",
       "      <td>2,743</td>\n",
       "      <td>95</td>\n",
       "    </tr>\n",
       "    <tr>\n",
       "      <th>7</th>\n",
       "      <td>Bangladesh</td>\n",
       "      <td>14</td>\n",
       "      <td>977</td>\n",
       "      <td>70</td>\n",
       "    </tr>\n",
       "    <tr>\n",
       "      <th>8</th>\n",
       "      <td>Sri Lanka</td>\n",
       "      <td>12</td>\n",
       "      <td>820</td>\n",
       "      <td>68</td>\n",
       "    </tr>\n",
       "    <tr>\n",
       "      <th>9</th>\n",
       "      <td>Thailand</td>\n",
       "      <td>12</td>\n",
       "      <td>806</td>\n",
       "      <td>67</td>\n",
       "    </tr>\n",
       "    <tr>\n",
       "      <th>10</th>\n",
       "      <td>Pakistan</td>\n",
       "      <td>27</td>\n",
       "      <td>1,678</td>\n",
       "      <td>62</td>\n",
       "    </tr>\n",
       "  </tbody>\n",
       "</table>\n",
       "</div>"
      ],
      "text/plain": [
       "         Country Matches Points Rating\n",
       "1      Australia      21  3,603    172\n",
       "2        England      28  3,342    119\n",
       "3   South Africa      26  3,098    119\n",
       "4          India      27  2,820    104\n",
       "5    New Zealand      28  2,688     96\n",
       "6    West Indies      29  2,743     95\n",
       "7     Bangladesh      14    977     70\n",
       "8      Sri Lanka      12    820     68\n",
       "9       Thailand      12    806     67\n",
       "10      Pakistan      27  1,678     62"
      ]
     },
     "execution_count": 34,
     "metadata": {},
     "output_type": "execute_result"
    }
   ],
   "source": [
    "#Creating DataFrame of Top 10 ODI teams in women’s cricket for matches, points and rating.\n",
    "Women_ODI = pd.DataFrame({'Country':teams,'Matches':matches1,'Points':points,'Rating':rating1},index4)\n",
    "Women_ODI"
   ]
  },
  {
   "cell_type": "code",
   "execution_count": null,
   "id": "3f3f896a",
   "metadata": {},
   "outputs": [],
   "source": []
  }
 ],
 "metadata": {
  "kernelspec": {
   "display_name": "Python 3 (ipykernel)",
   "language": "python",
   "name": "python3"
  },
  "language_info": {
   "codemirror_mode": {
    "name": "ipython",
    "version": 3
   },
   "file_extension": ".py",
   "mimetype": "text/x-python",
   "name": "python",
   "nbconvert_exporter": "python",
   "pygments_lexer": "ipython3",
   "version": "3.9.13"
  }
 },
 "nbformat": 4,
 "nbformat_minor": 5
}
