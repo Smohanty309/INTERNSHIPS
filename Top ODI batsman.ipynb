{
 "cells": [
  {
   "cell_type": "markdown",
   "id": "bf5a3366",
   "metadata": {},
   "source": [
    "Question no 3 (B)"
   ]
  },
  {
   "cell_type": "code",
   "execution_count": 27,
   "id": "bd11f8e9",
   "metadata": {},
   "outputs": [],
   "source": [
    "from bs4 import BeautifulSoup\n",
    "import requests\n",
    "import pandas as pd"
   ]
  },
  {
   "cell_type": "code",
   "execution_count": 28,
   "id": "e1c59c85",
   "metadata": {},
   "outputs": [],
   "source": [
    "#sending request to the web\n",
    "url2 = 'https://www.icc-cricket.com/rankings/mens/player-rankings/odi/batting'\n",
    "r = requests.get(url2)"
   ]
  },
  {
   "cell_type": "code",
   "execution_count": 29,
   "id": "690dc262",
   "metadata": {},
   "outputs": [],
   "source": [
    "#Creating soup\n",
    "soup2 = BeautifulSoup(r.content,'html.parser')\n"
   ]
  },
  {
   "cell_type": "code",
   "execution_count": 30,
   "id": "0d7874e5",
   "metadata": {},
   "outputs": [],
   "source": [
    "#Scraping Players from web \n",
    "ban_n = soup2.find('div', class_ = 'rankings-block__banner--name-large').text\n",
    "com_n = soup2.find_all('td', class_ = 'table-body__cell rankings-table__name name')\n",
    "names = []\n",
    "\n",
    "for i in com_n:\n",
    "    names.append(i.text.replace('\\n',''))"
   ]
  },
  {
   "cell_type": "code",
   "execution_count": 31,
   "id": "117202eb",
   "metadata": {},
   "outputs": [],
   "source": [
    "#Insert name in the list\n",
    "names.insert(0,ban_n)\n",
    "Players = names[0:10]\n"
   ]
  },
  {
   "cell_type": "code",
   "execution_count": 32,
   "id": "be0609d0",
   "metadata": {},
   "outputs": [],
   "source": [
    "#Scraping team from web\n",
    "ban_t = soup2.find('div', class_ = 'rankings-block__banner--nationality').text.replace('\\n','')\n",
    "com_t = soup2.find_all('td', class_ = 'table-body__cell nationality-logo rankings-table__team')\n",
    "teams = []\n",
    "\n",
    "for i in com_t:\n",
    "    teams.append(i.text.replace('\\n',''))"
   ]
  },
  {
   "cell_type": "code",
   "execution_count": 33,
   "id": "458bf38d",
   "metadata": {},
   "outputs": [],
   "source": [
    "#Inserting team to the other team list\n",
    "teams.insert(0,ban_t)\n",
    "team = teams[0:10]"
   ]
  },
  {
   "cell_type": "code",
   "execution_count": 34,
   "id": "1565fc1d",
   "metadata": {},
   "outputs": [],
   "source": [
    "#Scraping rating from the webpage\n",
    "ban_r = soup2.find('div', class_ = 'rankings-block__banner--rating').text\n",
    "com_r = soup2.find_all('td', class_ = 'table-body__cell rating')\n",
    "rati = []\n",
    "\n",
    "for i in com_r:\n",
    "    rati.append(i.text)"
   ]
  },
  {
   "cell_type": "code",
   "execution_count": 35,
   "id": "d1ca5c11",
   "metadata": {},
   "outputs": [],
   "source": [
    "#Inserting banner rating to the other ratings list\n",
    "rati.insert(0,ban_r)\n",
    "rating = rati[0:10]"
   ]
  },
  {
   "cell_type": "code",
   "execution_count": 36,
   "id": "c3ad01b3",
   "metadata": {},
   "outputs": [],
   "source": [
    "#Creating own index value.\n",
    "index2 = {1,2,3,4,5,6,7,8,9,10}"
   ]
  },
  {
   "cell_type": "code",
   "execution_count": 37,
   "id": "047c172d",
   "metadata": {},
   "outputs": [
    {
     "data": {
      "text/html": [
       "<div>\n",
       "<style scoped>\n",
       "    .dataframe tbody tr th:only-of-type {\n",
       "        vertical-align: middle;\n",
       "    }\n",
       "\n",
       "    .dataframe tbody tr th {\n",
       "        vertical-align: top;\n",
       "    }\n",
       "\n",
       "    .dataframe thead th {\n",
       "        text-align: right;\n",
       "    }\n",
       "</style>\n",
       "<table border=\"1\" class=\"dataframe\">\n",
       "  <thead>\n",
       "    <tr style=\"text-align: right;\">\n",
       "      <th></th>\n",
       "      <th>Players</th>\n",
       "      <th>Team</th>\n",
       "      <th>Rating</th>\n",
       "    </tr>\n",
       "  </thead>\n",
       "  <tbody>\n",
       "    <tr>\n",
       "      <th>1</th>\n",
       "      <td>Babar Azam</td>\n",
       "      <td>PAK</td>\n",
       "      <td>886</td>\n",
       "    </tr>\n",
       "    <tr>\n",
       "      <th>2</th>\n",
       "      <td>Rassie van der Dussen</td>\n",
       "      <td>SA</td>\n",
       "      <td>777</td>\n",
       "    </tr>\n",
       "    <tr>\n",
       "      <th>3</th>\n",
       "      <td>Fakhar Zaman</td>\n",
       "      <td>PAK</td>\n",
       "      <td>755</td>\n",
       "    </tr>\n",
       "    <tr>\n",
       "      <th>4</th>\n",
       "      <td>Imam-ul-Haq</td>\n",
       "      <td>PAK</td>\n",
       "      <td>745</td>\n",
       "    </tr>\n",
       "    <tr>\n",
       "      <th>5</th>\n",
       "      <td>Shubman Gill</td>\n",
       "      <td>IND</td>\n",
       "      <td>738</td>\n",
       "    </tr>\n",
       "    <tr>\n",
       "      <th>6</th>\n",
       "      <td>Harry Tector</td>\n",
       "      <td>IRE</td>\n",
       "      <td>726</td>\n",
       "    </tr>\n",
       "    <tr>\n",
       "      <th>7</th>\n",
       "      <td>David Warner</td>\n",
       "      <td>AUS</td>\n",
       "      <td>726</td>\n",
       "    </tr>\n",
       "    <tr>\n",
       "      <th>8</th>\n",
       "      <td>Virat Kohli</td>\n",
       "      <td>IND</td>\n",
       "      <td>719</td>\n",
       "    </tr>\n",
       "    <tr>\n",
       "      <th>9</th>\n",
       "      <td>Quinton de Kock</td>\n",
       "      <td>SA</td>\n",
       "      <td>718</td>\n",
       "    </tr>\n",
       "    <tr>\n",
       "      <th>10</th>\n",
       "      <td>Rohit Sharma</td>\n",
       "      <td>IND</td>\n",
       "      <td>707</td>\n",
       "    </tr>\n",
       "  </tbody>\n",
       "</table>\n",
       "</div>"
      ],
      "text/plain": [
       "                  Players Team Rating\n",
       "1              Babar Azam  PAK    886\n",
       "2   Rassie van der Dussen   SA    777\n",
       "3            Fakhar Zaman  PAK    755\n",
       "4             Imam-ul-Haq  PAK    745\n",
       "5            Shubman Gill  IND    738\n",
       "6            Harry Tector  IRE    726\n",
       "7            David Warner  AUS    726\n",
       "8             Virat Kohli  IND    719\n",
       "9         Quinton de Kock   SA    718\n",
       "10           Rohit Sharma  IND    707"
      ]
     },
     "execution_count": 37,
     "metadata": {},
     "output_type": "execute_result"
    }
   ],
   "source": [
    "#Creating DataFrame of Top 10 ODI Batsmen \n",
    "Bat = list(zip(Players,team,rating))\n",
    "Batsman = pd.DataFrame(Bat,index2,columns = ['Players','Team','Rating'])\n",
    "Batsman"
   ]
  },
  {
   "cell_type": "code",
   "execution_count": null,
   "id": "0e05645f",
   "metadata": {},
   "outputs": [],
   "source": []
  },
  {
   "cell_type": "code",
   "execution_count": null,
   "id": "92dc2990",
   "metadata": {},
   "outputs": [],
   "source": []
  }
 ],
 "metadata": {
  "kernelspec": {
   "display_name": "Python 3 (ipykernel)",
   "language": "python",
   "name": "python3"
  },
  "language_info": {
   "codemirror_mode": {
    "name": "ipython",
    "version": 3
   },
   "file_extension": ".py",
   "mimetype": "text/x-python",
   "name": "python",
   "nbconvert_exporter": "python",
   "pygments_lexer": "ipython3",
   "version": "3.9.13"
  }
 },
 "nbformat": 4,
 "nbformat_minor": 5
}
